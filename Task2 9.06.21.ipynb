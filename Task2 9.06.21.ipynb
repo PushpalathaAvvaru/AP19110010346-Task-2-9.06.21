{
 "cells": [
  {
   "cell_type": "code",
   "execution_count": 5,
   "id": "f9b14999",
   "metadata": {},
   "outputs": [
    {
     "name": "stdout",
     "output_type": "stream",
     "text": [
      "CSE Dept\n"
     ]
    }
   ],
   "source": [
    "#Task1:-\n",
    "a='AP19110010346'\n",
    "b=a[-3:]\n",
    "if '01' and'46'in b:\n",
    "    print('CSE Dept')\n",
    "elif '11' in b:\n",
    "    print('It Dept')\n",
    "elif '21' in b:\n",
    "    print('ECE Dept')\n",
    "else:\n",
    "    print('Not an srm student')\n"
   ]
  },
  {
   "cell_type": "code",
   "execution_count": 6,
   "id": "ac09e5a6",
   "metadata": {},
   "outputs": [
    {
     "name": "stdout",
     "output_type": "stream",
     "text": [
      "1804 1808 1812 1816 1820 1824 1828 1832 1836 1840 1844 1848 1852 1856 1860 1864 1868 1872 1876 1880 1884 1888 1892 1896 1904 1908 1912 1916 1920 1924 1928 1932 1936 1940 1944 1948 1952 1956 1960 1964 1968 1972 1976 1980 1984 1988 1992 1996 2000 2004 2008 2012 2016 2020 "
     ]
    }
   ],
   "source": [
    "#Task2\n",
    "for year in range(1800,2021):\n",
    "    if(year%4==0 and year%100!=0) or (year%400==0):\n",
    "        print(year,end=' ')"
   ]
  },
  {
   "cell_type": "code",
   "execution_count": null,
   "id": "1e65bfc2",
   "metadata": {},
   "outputs": [],
   "source": []
  }
 ],
 "metadata": {
  "kernelspec": {
   "display_name": "Python 3",
   "language": "python",
   "name": "python3"
  },
  "language_info": {
   "codemirror_mode": {
    "name": "ipython",
    "version": 3
   },
   "file_extension": ".py",
   "mimetype": "text/x-python",
   "name": "python",
   "nbconvert_exporter": "python",
   "pygments_lexer": "ipython3",
   "version": "3.8.8"
  }
 },
 "nbformat": 4,
 "nbformat_minor": 5
}
